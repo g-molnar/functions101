{
  "nbformat": 4,
  "nbformat_minor": 0,
  "metadata": {
    "colab": {
      "name": "functions.ipynb",
      "provenance": [],
      "authorship_tag": "ABX9TyPwliPdmapRpV+s6Ei6KSZZ",
      "include_colab_link": true
    },
    "kernelspec": {
      "name": "python3",
      "display_name": "Python 3"
    },
    "language_info": {
      "name": "python"
    }
  },
  "cells": [
    {
      "cell_type": "markdown",
      "metadata": {
        "id": "view-in-github",
        "colab_type": "text"
      },
      "source": [
        "<a href=\"https://colab.research.google.com/github/g-molnar/functions101/blob/main/functions.ipynb\" target=\"_parent\"><img src=\"https://colab.research.google.com/assets/colab-badge.svg\" alt=\"Open In Colab\"/></a>"
      ]
    },
    {
      "cell_type": "code",
      "execution_count": null,
      "metadata": {
        "id": "kmDNZsrdFPMc"
      },
      "outputs": [],
      "source": [
        ""
      ]
    },
    {
      "cell_type": "markdown",
      "source": [
        "Functions collects logic"
      ],
      "metadata": {
        "id": "lNe5l9RXFTMI"
      }
    },
    {
      "cell_type": "markdown",
      "source": [
        "Getting started with functions"
      ],
      "metadata": {
        "id": "iKWn294EFknw"
      }
    },
    {
      "cell_type": "code",
      "source": [
        "var = 1"
      ],
      "metadata": {
        "id": "Bq7AJuOZF56m"
      },
      "execution_count": null,
      "outputs": []
    },
    {
      "cell_type": "code",
      "source": [
        "def simple_function(): pass"
      ],
      "metadata": {
        "id": "sagjPgDxGGhK"
      },
      "execution_count": null,
      "outputs": []
    },
    {
      "cell_type": "code",
      "source": [
        "def simple_function2():\n",
        "    return 1"
      ],
      "metadata": {
        "id": "Pwe-MaPGGIMg"
      },
      "execution_count": 2,
      "outputs": []
    },
    {
      "cell_type": "code",
      "source": [
        "simple_function2()"
      ],
      "metadata": {
        "colab": {
          "base_uri": "https://localhost:8080/"
        },
        "id": "UvnAbjXLGbhp",
        "outputId": "84c6e1f2-9fb9-44ac-85de-c3475b623e98"
      },
      "execution_count": 4,
      "outputs": [
        {
          "output_type": "execute_result",
          "data": {
            "text/plain": [
              "1"
            ]
          },
          "metadata": {},
          "execution_count": 4
        }
      ]
    },
    {
      "cell_type": "markdown",
      "source": [
        "Put things into the function"
      ],
      "metadata": {
        "id": "D4EIOW7SGrPa"
      }
    },
    {
      "cell_type": "code",
      "source": [
        "def add(x,y):\n",
        "    return x+y"
      ],
      "metadata": {
        "id": "kgs_JUQPGuoR"
      },
      "execution_count": 7,
      "outputs": []
    },
    {
      "cell_type": "code",
      "source": [
        "add(1,1)"
      ],
      "metadata": {
        "colab": {
          "base_uri": "https://localhost:8080/"
        },
        "id": "8le1EDtKG1T2",
        "outputId": "286fd78d-6c7f-4bfb-9e1e-6c777c0d43d3"
      },
      "execution_count": 8,
      "outputs": [
        {
          "output_type": "execute_result",
          "data": {
            "text/plain": [
              "2"
            ]
          },
          "metadata": {},
          "execution_count": 8
        }
      ]
    },
    {
      "cell_type": "code",
      "source": [
        "add(2,2)"
      ],
      "metadata": {
        "colab": {
          "base_uri": "https://localhost:8080/"
        },
        "id": "lJuctKm9HFqj",
        "outputId": "52e9a26d-4c44-4aac-be4e-6d2fe4b11752"
      },
      "execution_count": 9,
      "outputs": [
        {
          "output_type": "execute_result",
          "data": {
            "text/plain": [
              "4"
            ]
          },
          "metadata": {},
          "execution_count": 9
        }
      ]
    },
    {
      "cell_type": "code",
      "source": [
        "foods = (\"apple\", \"eggs\", \"butter\")"
      ],
      "metadata": {
        "id": "G53M_v3IHc5L"
      },
      "execution_count": 10,
      "outputs": []
    },
    {
      "cell_type": "code",
      "source": [
        "def complicated_function(my_food):\n",
        "  \n",
        "  total = len(my_food)\n",
        "  print (f\"I am very hungry and I am ready to eat: {total} foods!\")\n",
        "  for food in my_food:\n",
        "    print(f\"I love to wake up and eat: {food}\")"
      ],
      "metadata": {
        "id": "PTb4koODHUoP"
      },
      "execution_count": 11,
      "outputs": []
    },
    {
      "cell_type": "code",
      "source": [
        "complicated_function(foods)"
      ],
      "metadata": {
        "colab": {
          "base_uri": "https://localhost:8080/"
        },
        "id": "gL6TE8oqIxgJ",
        "outputId": "f985422b-e66f-44fd-ccca-effe24e85972"
      },
      "execution_count": 12,
      "outputs": [
        {
          "output_type": "stream",
          "name": "stdout",
          "text": [
            "I am very hungry and I am ready to eat: 3 foods!\n",
            "I love to wake up and eat: apple\n",
            "I love to wake up and eat: eggs\n",
            "I love to wake up and eat: butter\n"
          ]
        }
      ]
    },
    {
      "cell_type": "code",
      "source": [
        "complicated_function([\"steak\", \"ham\", \"bacon\"])"
      ],
      "metadata": {
        "colab": {
          "base_uri": "https://localhost:8080/"
        },
        "id": "2zrI0DoGJIke",
        "outputId": "f9939f71-69d9-4000-c963-8a184e39b38a"
      },
      "execution_count": 13,
      "outputs": [
        {
          "output_type": "stream",
          "name": "stdout",
          "text": [
            "I am very hungry and I am ready to eat: 3 foods!\n",
            "I love to wake up and eat: steak\n",
            "I love to wake up and eat: ham\n",
            "I love to wake up and eat: bacon\n"
          ]
        }
      ]
    }
  ]
}